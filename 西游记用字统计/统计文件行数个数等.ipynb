{
 "cells": [
  {
   "cell_type": "code",
   "execution_count": 13,
   "metadata": {},
   "outputs": [
    {
     "name": "stdout",
     "output_type": "stream",
     "text": [
      "7\n"
     ]
    }
   ],
   "source": [
    "#方法1\n",
    "count = 0\n",
    "with open('1.txt','r',encoding='utf-8') as f:\n",
    "    for line in f:\n",
    "        count += 1\n",
    "print(count)    \n",
    "\n"
   ]
  },
  {
   "cell_type": "code",
   "execution_count": 11,
   "metadata": {},
   "outputs": [
    {
     "data": {
      "text/plain": [
       "7"
      ]
     },
     "execution_count": 11,
     "metadata": {},
     "output_type": "execute_result"
    }
   ],
   "source": [
    "#方法2\n",
    "def linecount_2():\n",
    "    count = -1 #让空文件的行号显示0\n",
    "    for count,line in enumerate(open('1.txt',encoding='utf-8')): pass \n",
    "    #enumerate格式化成了元组,count就是行号,因为从0开始要+1\n",
    "    return count+1\n",
    "linecount_2()"
   ]
  },
  {
   "cell_type": "code",
   "execution_count": 15,
   "metadata": {},
   "outputs": [
    {
     "data": {
      "text/plain": [
       "7"
      ]
     },
     "execution_count": 15,
     "metadata": {},
     "output_type": "execute_result"
    }
   ],
   "source": [
    "#方法3：\n",
    "def linecount_3():\n",
    "    return len(open('1.txt',encoding='utf-8').readlines())#最直接的方法\n",
    "\n",
    "linecount_1()"
   ]
  },
  {
   "cell_type": "code",
   "execution_count": 16,
   "metadata": {},
   "outputs": [
    {
     "name": "stdout",
     "output_type": "stream",
     "text": [
      "9\n"
     ]
    }
   ],
   "source": [
    "#来统计文件和文件的个数\n",
    "#统计 /C:\\Users\\tianjiayang\\data analysisi practice 下的文件夹和文件个数\n",
    "import os\n",
    "path =\"C:/Users/tianjiayang/data analysisi practice\"\n",
    "count = 0\n",
    "for fn in os.listdir(path): #fn 表示的是文件名\n",
    "        count = count+1\n",
    "print (count)\n",
    "\n"
   ]
  },
  {
   "cell_type": "code",
   "execution_count": 25,
   "metadata": {},
   "outputs": [
    {
     "data": {
      "text/plain": [
       "'C:\\\\Users\\\\tianjiayang\\\\data analysisi practice\\\\NLP\\\\西游记用字统计'"
      ]
     },
     "execution_count": 25,
     "metadata": {},
     "output_type": "execute_result"
    }
   ],
   "source": [
    "os.getcwd()"
   ]
  },
  {
   "cell_type": "code",
   "execution_count": 27,
   "metadata": {},
   "outputs": [
    {
     "name": "stdout",
     "output_type": "stream",
     "text": [
      "7\n",
      "2\n"
     ]
    }
   ],
   "source": [
    "#获取文件夹下的文件及文件夹的个数：\n",
    "\n",
    "import os\n",
    "path = os.getcwd()    #获取当前路径\n",
    "count = 0\n",
    "countdir = 0\n",
    "for root,dirs,files in os.walk(path):    #遍历统计\n",
    "    for each in files:\n",
    "        count += 1 #统计文件夹下文件个数\n",
    "    for each1 in dirs:\n",
    "        countdir += 1\n",
    "print (count)   # 输出文件的个数\n",
    "print(countdir)#输出文件夹的个数\n"
   ]
  }
 ],
 "metadata": {
  "kernelspec": {
   "display_name": "Python 3",
   "language": "python",
   "name": "python3"
  },
  "language_info": {
   "codemirror_mode": {
    "name": "ipython",
    "version": 3
   },
   "file_extension": ".py",
   "mimetype": "text/x-python",
   "name": "python",
   "nbconvert_exporter": "python",
   "pygments_lexer": "ipython3",
   "version": "3.6.5"
  }
 },
 "nbformat": 4,
 "nbformat_minor": 2
}
